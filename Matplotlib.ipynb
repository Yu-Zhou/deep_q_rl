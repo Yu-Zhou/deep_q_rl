{
  "nbformat": 4,
  "nbformat_minor": 0,
  "metadata": {
    "colab": {
      "name": "Matplotlib.ipynb",
      "version": "0.3.2",
      "provenance": [],
      "collapsed_sections": [],
      "toc_visible": true,
      "include_colab_link": true
    },
    "kernelspec": {
      "name": "python3",
      "display_name": "Python 3"
    }
  },
  "cells": [
    {
      "cell_type": "markdown",
      "metadata": {
        "id": "view-in-github",
        "colab_type": "text"
      },
      "source": [
        "[View in Colaboratory](https://colab.research.google.com/github/Yu-Zhou/deep_q_rl/blob/master/Matplotlib.ipynb)"
      ]
    },
    {
      "metadata": {
        "id": "_gCJJdCUjkyC",
        "colab_type": "text"
      },
      "cell_type": "markdown",
      "source": [
        "# Plotting with Matplotlib"
      ]
    },
    {
      "metadata": {
        "id": "IrhkpObfqn6u",
        "colab_type": "text"
      },
      "cell_type": "markdown",
      "source": [
        "Main points:\n",
        "\n",
        "\n",
        "1.   Matplotlib is a huge library with several moduls, including the abandoned ```pylab``` and the default ```pyplot```.\n",
        "2.   The Matplotlib Objects were constructed hierarchically.\n",
        "*   The ```Figure``` object is the outmost container for a matplotlib object,\n",
        "*   The ```Axes``` list is nested within ```Figure```\n",
        "*   Here, ```Axe``` means an individual plot or graph.\n",
        "*  pyplot is a state-machine interface.     There is only ever one Figure or Axes that you’re manipulating at a given time, and you don’t need to explicitly refer to it. e.g. instead of\n",
        "```\n",
        "    plt.gca().set_title(\"AAA\")\n",
        "```\n",
        "we can use\n",
        "```\n",
        "    plt.title(\"AAA\")\n",
        "```\n",
        "\n",
        "\n",
        "\n",
        "\n",
        "\n"
      ]
    },
    {
      "metadata": {
        "id": "Ii_BwOsMjjjW",
        "colab_type": "code",
        "colab": {}
      },
      "cell_type": "code",
      "source": [
        "import matplotlib.pyplot as plt\n",
        "import numpy as np"
      ],
      "execution_count": 0,
      "outputs": []
    },
    {
      "metadata": {
        "id": "v-JQiKxXkv0D",
        "colab_type": "text"
      },
      "cell_type": "markdown",
      "source": [
        "Below, the \n",
        "```plt.subplots``` function creates two object, the first is a top level figure object, and the second is a throw away miscelleous variable.\n",
        "\n",
        "\n"
      ]
    },
    {
      "metadata": {
        "id": "sTVmSRUOqgOR",
        "colab_type": "code",
        "colab": {
          "base_uri": "https://localhost:8080/",
          "height": 369
        },
        "outputId": "69724c1f-fbe0-45cb-a0de-2c1a6bade8b7"
      },
      "cell_type": "code",
      "source": [
        "fig, _ = plt.subplots(2,2)\n",
        "# help(plt.subplots)\n",
        "len(fig.axes)"
      ],
      "execution_count": 57,
      "outputs": [
        {
          "output_type": "execute_result",
          "data": {
            "text/plain": [
              "4"
            ]
          },
          "metadata": {
            "tags": []
          },
          "execution_count": 57
        },
        {
          "output_type": "display_data",
          "data": {
            "image/png": "[encoded data removed]",
            "text/plain": [
              "<matplotlib.figure.Figure at 0x7f9586751048>"
            ]
          },
          "metadata": {
            "tags": []
          }
        }
      ]
    },
    {
      "metadata": {
        "id": "AJQSBMxcnnwy",
        "colab_type": "text"
      },
      "cell_type": "markdown",
      "source": [
        "see the *first* tick of the y axis of the *first* Axes object:"
      ]
    },
    {
      "metadata": {
        "id": "ZZiv7StolahO",
        "colab_type": "code",
        "colab": {
          "base_uri": "https://localhost:8080/",
          "height": 35
        },
        "outputId": "8238ff48-9c22-4ba8-9d0b-92b742801cf1"
      },
      "cell_type": "code",
      "source": [
        "fig.axes[0].yaxis.get_major_ticks()[0]"
      ],
      "execution_count": 44,
      "outputs": [
        {
          "output_type": "execute_result",
          "data": {
            "text/plain": [
              "<matplotlib.axis.YTick at 0x7f9586b29a20>"
            ]
          },
          "metadata": {
            "tags": []
          },
          "execution_count": 44
        }
      ]
    },
    {
      "metadata": {
        "id": "3Q-bOmxAkjY1",
        "colab_type": "code",
        "colab": {
          "base_uri": "https://localhost:8080/",
          "height": 137
        },
        "outputId": "78b1ca68-ea09-43b4-a7b2-069f6cd1cac4"
      },
      "cell_type": "code",
      "source": [
        "fig = plt.figure(figsize = (6,3))\n",
        "plt.subplot(2,3,2)\n",
        "plt.plot([1,2,3])\n",
        "plt.gca().set_title(\"asb\")\n",
        "# plt.title(\"asb\")\n",
        "plt.show()"
      ],
      "execution_count": 52,
      "outputs": [
        {
          "output_type": "display_data",
          "data": {
            "image/png": "[encoded data removed]",
            "text/plain": [
              "<matplotlib.figure.Figure at 0x7f958700be48>"
            ]
          },
          "metadata": {
            "tags": []
          }
        }
      ]
    }
  ]
}